{
 "cells": [
  {
   "cell_type": "code",
   "execution_count": 1,
   "metadata": {},
   "outputs": [],
   "source": [
    "import json\n",
    "import pandas as pd\n",
    "import numpy as np\n",
    "import torch"
   ]
  },
  {
   "cell_type": "code",
   "execution_count": 2,
   "metadata": {},
   "outputs": [],
   "source": [
    "window_length = 30\n",
    "step_size = 1"
   ]
  },
  {
   "cell_type": "code",
   "execution_count": 5,
   "metadata": {},
   "outputs": [],
   "source": [
    "data_dir = \"./NAB/data/realKnownCause/nyc_taxi.csv\"\n",
    "data = pd.read_csv(data_dir)\n",
    "data['timestamp'] = pd.to_datetime(data['timestamp'])"
   ]
  },
  {
   "cell_type": "code",
   "execution_count": 6,
   "metadata": {},
   "outputs": [],
   "source": [
    "label_dir = './NAB/labels/combined_windows.json'\n",
    "\n",
    "with open(label_dir) as FI:\n",
    "    j_label = json.load(FI)"
   ]
  },
  {
   "cell_type": "code",
   "execution_count": 7,
   "metadata": {},
   "outputs": [],
   "source": [
    "def get_label(df_x, j_label):\n",
    "    ano_spans = j_label['realKnownCause/nyc_taxi.csv']\n",
    "\n",
    "    y = torch.zeros(len(df_x))\n",
    "\n",
    "    for ano_span in ano_spans:\n",
    "        ano_start = pd.to_datetime(ano_span[0])\n",
    "        ano_end = pd.to_datetime(ano_span[1])\n",
    "        for idx in df_x.index:\n",
    "            if df_x.loc[idx, 'timestamp'] >= ano_start and df_x.loc[idx, 'timestamp'] <= ano_end:\n",
    "                y[idx] = 1.0\n",
    "    \n",
    "    xx = torch.from_numpy(df_x['value'].values)\n",
    "\n",
    "    return xx, y"
   ]
  },
  {
   "cell_type": "code",
   "execution_count": 8,
   "metadata": {},
   "outputs": [],
   "source": [
    "xx, label = get_label(data, j_label)"
   ]
  },
  {
   "cell_type": "code",
   "execution_count": 9,
   "metadata": {},
   "outputs": [
    {
     "data": {
      "text/plain": [
       "(torch.Size([10320]), torch.Size([10320]))"
      ]
     },
     "execution_count": 9,
     "metadata": {},
     "output_type": "execute_result"
    }
   ],
   "source": [
    "xx.shape, label.shape"
   ]
  },
  {
   "cell_type": "code",
   "execution_count": 10,
   "metadata": {},
   "outputs": [],
   "source": [
    "def split_dataset(x, y, train_ratio, val_ratio):\n",
    "    \n",
    "    train_idx, val_idx = int(train_ratio*len(x)), int(val_ratio*len(x))\n",
    "\n",
    "    train = x[:train_idx], y[:train_idx]\n",
    "    val = x[:train_idx+val_idx], y[:train_idx+val_idx]\n",
    "    test = x[train_idx+val_idx:], y[train_idx+val_idx:]\n",
    "\n",
    "    return train, val, test"
   ]
  },
  {
   "cell_type": "code",
   "execution_count": 11,
   "metadata": {},
   "outputs": [],
   "source": [
    "train, val, test = split_dataset(xx, label, 0.6,0.1)"
   ]
  },
  {
   "cell_type": "code",
   "execution_count": 12,
   "metadata": {},
   "outputs": [],
   "source": [
    "def get_minmax(train_data):\n",
    "\n",
    "    minimum, maximum = train_data.min().item(), train_data.max().item()\n",
    "\n",
    "    return minimum, maximum\n",
    "\n",
    "def standardize(data, min, max):\n",
    "\n",
    "    return (data-min)/(max-min)"
   ]
  },
  {
   "cell_type": "code",
   "execution_count": 13,
   "metadata": {},
   "outputs": [
    {
     "data": {
      "text/plain": [
       "tensor([0.2492, 0.1773, 0.1265, 0.0854, 0.0633, 0.0382, 0.0248, 0.0168, 0.0209,\n",
       "        0.0193])"
      ]
     },
     "execution_count": 13,
     "metadata": {},
     "output_type": "execute_result"
    }
   ],
   "source": [
    "min, max = get_minmax(train[0])\n",
    "standardize(train[0], min, max)[0:10]"
   ]
  },
  {
   "cell_type": "code",
   "execution_count": 14,
   "metadata": {},
   "outputs": [],
   "source": [
    "def unroll(xx, yy, window_size, step_size):\n",
    "\n",
    "    seq_len = (len(xx)-window_size)//step_size + 1 \n",
    "\n",
    "    window_data = torch.zeros((seq_len, window_size))\n",
    "    window_label = torch.zeros((seq_len, ))\n",
    "\n",
    "    idx = 0\n",
    "    seq_idx = 0\n",
    "    while(idx < xx.shape[0] - window_size+1):\n",
    "        window_data[seq_idx] = xx[idx:idx+window_size]\n",
    "        window_label[seq_idx] = 1 if yy[idx:idx+window_size].sum().item() > 0 else 0\n",
    "        idx += step_size\n",
    "        seq_idx +=1\n",
    "\n",
    "    return window_data, window_label"
   ]
  },
  {
   "cell_type": "code",
   "execution_count": 16,
   "metadata": {},
   "outputs": [],
   "source": [
    "input, label2=unroll(standardize(train[0], min, max), train[1], 40, 5)"
   ]
  },
  {
   "cell_type": "code",
   "execution_count": 18,
   "metadata": {},
   "outputs": [
    {
     "data": {
      "text/plain": [
       "(torch.Size([1231, 40]), torch.Size([1231]))"
      ]
     },
     "execution_count": 18,
     "metadata": {},
     "output_type": "execute_result"
    }
   ],
   "source": [
    "input.shape, label2.shape"
   ]
  }
 ],
 "metadata": {
  "kernelspec": {
   "display_name": "Python 3",
   "language": "python",
   "name": "python3"
  },
  "language_info": {
   "codemirror_mode": {
    "name": "ipython",
    "version": 3
   },
   "file_extension": ".py",
   "mimetype": "text/x-python",
   "name": "python",
   "nbconvert_exporter": "python",
   "pygments_lexer": "ipython3",
   "version": "3.8.10"
  },
  "orig_nbformat": 4,
  "vscode": {
   "interpreter": {
    "hash": "767d51c1340bd893661ea55ea3124f6de3c7a262a8b4abca0554b478b1e2ff90"
   }
  }
 },
 "nbformat": 4,
 "nbformat_minor": 2
}
