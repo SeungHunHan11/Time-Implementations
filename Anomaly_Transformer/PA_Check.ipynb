{
 "cells": [
  {
   "cell_type": "code",
   "execution_count": 2,
   "metadata": {},
   "outputs": [],
   "source": [
    "import pandas as pd\n",
    "import numpy as np\n",
    "import os\n",
    "import json"
   ]
  },
  {
   "cell_type": "code",
   "execution_count": 3,
   "metadata": {},
   "outputs": [],
   "source": [
    "from glob import glob\n",
    "\n",
    "model_path = glob('/directory/Anomaly_Transformer/saved_models/*')\n",
    " \n",
    "df = pd.DataFrame()\n",
    "\n",
    "for j in range(len(model_path)):\n",
    "\n",
    "    test_metrics_path = glob(os.path.join(model_path[j],'*','best_test_result.json'))\n",
    "\n",
    "    metric_df = pd.DataFrame()\n",
    "\n",
    "    for i in range(len(test_metrics_path)):\n",
    "        dir = test_metrics_path[i]\n",
    "        # Open the JSON file\n",
    "        with open(dir, 'r') as f:\n",
    "            data = json.load(f)\n",
    "\n",
    "        dataset_name = dir.split('/')[-3]\n",
    "        f_1 = data['eval_metrics']['test_f1_score']\n",
    "        recall = data['eval_metrics']['test_recall']\n",
    "        precision = data['eval_metrics']['test_recall']\n",
    "        use_pa = dir.split('/')[-2][:7]\n",
    "        seed = dir.split('/')[-2].split('_')[-1]\n",
    "\n",
    "        temp = pd.DataFrame([dataset_name, use_pa,seed,precision,recall,f_1]).T\n",
    "\n",
    "        metric_df = pd.concat([metric_df, temp], axis = 0)\n",
    "\n",
    "    df = pd.concat([df, metric_df])\n",
    "\n",
    "df.columns = ['Dataset', 'PA', 'SEED',' Precision', 'Recall', 'F1-Score']\n",
    "df.reset_index(drop = True, inplace = True)"
   ]
  },
  {
   "cell_type": "code",
   "execution_count": 4,
   "metadata": {},
   "outputs": [
    {
     "data": {
      "text/html": [
       "<div>\n",
       "<style scoped>\n",
       "    .dataframe tbody tr th:only-of-type {\n",
       "        vertical-align: middle;\n",
       "    }\n",
       "\n",
       "    .dataframe tbody tr th {\n",
       "        vertical-align: top;\n",
       "    }\n",
       "\n",
       "    .dataframe thead th {\n",
       "        text-align: right;\n",
       "    }\n",
       "</style>\n",
       "<table border=\"1\" class=\"dataframe\">\n",
       "  <thead>\n",
       "    <tr style=\"text-align: right;\">\n",
       "      <th></th>\n",
       "      <th>Dataset</th>\n",
       "      <th>PA</th>\n",
       "      <th>SEED</th>\n",
       "      <th>Precision</th>\n",
       "      <th>Recall</th>\n",
       "      <th>F1-Score</th>\n",
       "    </tr>\n",
       "  </thead>\n",
       "  <tbody>\n",
       "    <tr>\n",
       "      <th>0</th>\n",
       "      <td>MSL</td>\n",
       "      <td>with_PA</td>\n",
       "      <td>1998</td>\n",
       "      <td>0.975921</td>\n",
       "      <td>0.975921</td>\n",
       "      <td>0.947553</td>\n",
       "    </tr>\n",
       "    <tr>\n",
       "      <th>1</th>\n",
       "      <td>MSL</td>\n",
       "      <td>without</td>\n",
       "      <td>1105</td>\n",
       "      <td>0.010945</td>\n",
       "      <td>0.010945</td>\n",
       "      <td>0.019993</td>\n",
       "    </tr>\n",
       "    <tr>\n",
       "      <th>2</th>\n",
       "      <td>MSL</td>\n",
       "      <td>without</td>\n",
       "      <td>1905</td>\n",
       "      <td>0.01146</td>\n",
       "      <td>0.01146</td>\n",
       "      <td>0.020934</td>\n",
       "    </tr>\n",
       "    <tr>\n",
       "      <th>3</th>\n",
       "      <td>MSL</td>\n",
       "      <td>without</td>\n",
       "      <td>1998</td>\n",
       "      <td>0.010945</td>\n",
       "      <td>0.010945</td>\n",
       "      <td>0.019993</td>\n",
       "    </tr>\n",
       "    <tr>\n",
       "      <th>4</th>\n",
       "      <td>MSL</td>\n",
       "      <td>with_PA</td>\n",
       "      <td>1905</td>\n",
       "      <td>0.970255</td>\n",
       "      <td>0.970255</td>\n",
       "      <td>0.944887</td>\n",
       "    </tr>\n",
       "    <tr>\n",
       "      <th>5</th>\n",
       "      <td>MSL</td>\n",
       "      <td>with_PA</td>\n",
       "      <td>1105</td>\n",
       "      <td>0.955447</td>\n",
       "      <td>0.955447</td>\n",
       "      <td>0.937105</td>\n",
       "    </tr>\n",
       "    <tr>\n",
       "      <th>6</th>\n",
       "      <td>SMAP</td>\n",
       "      <td>with_PA</td>\n",
       "      <td>1998</td>\n",
       "      <td>0.996343</td>\n",
       "      <td>0.996343</td>\n",
       "      <td>0.965206</td>\n",
       "    </tr>\n",
       "    <tr>\n",
       "      <th>7</th>\n",
       "      <td>SMAP</td>\n",
       "      <td>without</td>\n",
       "      <td>1105</td>\n",
       "      <td>0.011226</td>\n",
       "      <td>0.011226</td>\n",
       "      <td>0.020823</td>\n",
       "    </tr>\n",
       "    <tr>\n",
       "      <th>8</th>\n",
       "      <td>SMAP</td>\n",
       "      <td>without</td>\n",
       "      <td>1905</td>\n",
       "      <td>0.01022</td>\n",
       "      <td>0.01022</td>\n",
       "      <td>0.018958</td>\n",
       "    </tr>\n",
       "    <tr>\n",
       "      <th>9</th>\n",
       "      <td>SMAP</td>\n",
       "      <td>without</td>\n",
       "      <td>1998</td>\n",
       "      <td>0.010677</td>\n",
       "      <td>0.010677</td>\n",
       "      <td>0.019806</td>\n",
       "    </tr>\n",
       "    <tr>\n",
       "      <th>10</th>\n",
       "      <td>SMAP</td>\n",
       "      <td>with_PA</td>\n",
       "      <td>1905</td>\n",
       "      <td>0.995777</td>\n",
       "      <td>0.995777</td>\n",
       "      <td>0.964964</td>\n",
       "    </tr>\n",
       "    <tr>\n",
       "      <th>11</th>\n",
       "      <td>SMAP</td>\n",
       "      <td>with_PA</td>\n",
       "      <td>1105</td>\n",
       "      <td>0.997276</td>\n",
       "      <td>0.997276</td>\n",
       "      <td>0.96575</td>\n",
       "    </tr>\n",
       "    <tr>\n",
       "      <th>12</th>\n",
       "      <td>SMD</td>\n",
       "      <td>with_PA</td>\n",
       "      <td>1998</td>\n",
       "      <td>0.938595</td>\n",
       "      <td>0.938595</td>\n",
       "      <td>0.917499</td>\n",
       "    </tr>\n",
       "    <tr>\n",
       "      <th>13</th>\n",
       "      <td>SMD</td>\n",
       "      <td>without</td>\n",
       "      <td>1105</td>\n",
       "      <td>0.013042</td>\n",
       "      <td>0.013042</td>\n",
       "      <td>0.023283</td>\n",
       "    </tr>\n",
       "    <tr>\n",
       "      <th>14</th>\n",
       "      <td>SMD</td>\n",
       "      <td>without</td>\n",
       "      <td>1905</td>\n",
       "      <td>0.014502</td>\n",
       "      <td>0.014502</td>\n",
       "      <td>0.02589</td>\n",
       "    </tr>\n",
       "    <tr>\n",
       "      <th>15</th>\n",
       "      <td>SMD</td>\n",
       "      <td>without</td>\n",
       "      <td>1998</td>\n",
       "      <td>0.012906</td>\n",
       "      <td>0.012906</td>\n",
       "      <td>0.02304</td>\n",
       "    </tr>\n",
       "    <tr>\n",
       "      <th>16</th>\n",
       "      <td>SMD</td>\n",
       "      <td>with_PA</td>\n",
       "      <td>1905</td>\n",
       "      <td>0.958192</td>\n",
       "      <td>0.958192</td>\n",
       "      <td>0.928487</td>\n",
       "    </tr>\n",
       "    <tr>\n",
       "      <th>17</th>\n",
       "      <td>SMD</td>\n",
       "      <td>with_PA</td>\n",
       "      <td>1105</td>\n",
       "      <td>0.953675</td>\n",
       "      <td>0.953675</td>\n",
       "      <td>0.925496</td>\n",
       "    </tr>\n",
       "  </tbody>\n",
       "</table>\n",
       "</div>"
      ],
      "text/plain": [
       "   Dataset       PA  SEED  Precision    Recall  F1-Score\n",
       "0      MSL  with_PA  1998   0.975921  0.975921  0.947553\n",
       "1      MSL  without  1105   0.010945  0.010945  0.019993\n",
       "2      MSL  without  1905    0.01146   0.01146  0.020934\n",
       "3      MSL  without  1998   0.010945  0.010945  0.019993\n",
       "4      MSL  with_PA  1905   0.970255  0.970255  0.944887\n",
       "5      MSL  with_PA  1105   0.955447  0.955447  0.937105\n",
       "6     SMAP  with_PA  1998   0.996343  0.996343  0.965206\n",
       "7     SMAP  without  1105   0.011226  0.011226  0.020823\n",
       "8     SMAP  without  1905    0.01022   0.01022  0.018958\n",
       "9     SMAP  without  1998   0.010677  0.010677  0.019806\n",
       "10    SMAP  with_PA  1905   0.995777  0.995777  0.964964\n",
       "11    SMAP  with_PA  1105   0.997276  0.997276   0.96575\n",
       "12     SMD  with_PA  1998   0.938595  0.938595  0.917499\n",
       "13     SMD  without  1105   0.013042  0.013042  0.023283\n",
       "14     SMD  without  1905   0.014502  0.014502   0.02589\n",
       "15     SMD  without  1998   0.012906  0.012906   0.02304\n",
       "16     SMD  with_PA  1905   0.958192  0.958192  0.928487\n",
       "17     SMD  with_PA  1105   0.953675  0.953675  0.925496"
      ]
     },
     "execution_count": 4,
     "metadata": {},
     "output_type": "execute_result"
    }
   ],
   "source": [
    "df"
   ]
  },
  {
   "cell_type": "code",
   "execution_count": 5,
   "metadata": {},
   "outputs": [
    {
     "data": {
      "text/html": [
       "<div>\n",
       "<style scoped>\n",
       "    .dataframe tbody tr th:only-of-type {\n",
       "        vertical-align: middle;\n",
       "    }\n",
       "\n",
       "    .dataframe tbody tr th {\n",
       "        vertical-align: top;\n",
       "    }\n",
       "\n",
       "    .dataframe thead th {\n",
       "        text-align: right;\n",
       "    }\n",
       "</style>\n",
       "<table border=\"1\" class=\"dataframe\">\n",
       "  <thead>\n",
       "    <tr style=\"text-align: right;\">\n",
       "      <th></th>\n",
       "      <th></th>\n",
       "      <th>Precision</th>\n",
       "      <th>Recall</th>\n",
       "      <th>F1-Score</th>\n",
       "    </tr>\n",
       "    <tr>\n",
       "      <th>Dataset</th>\n",
       "      <th>PA</th>\n",
       "      <th></th>\n",
       "      <th></th>\n",
       "      <th></th>\n",
       "    </tr>\n",
       "  </thead>\n",
       "  <tbody>\n",
       "    <tr>\n",
       "      <th rowspan=\"2\" valign=\"top\">MSL</th>\n",
       "      <th>with_PA</th>\n",
       "      <td>0.967207</td>\n",
       "      <td>0.967207</td>\n",
       "      <td>0.943182</td>\n",
       "    </tr>\n",
       "    <tr>\n",
       "      <th>without</th>\n",
       "      <td>0.011117</td>\n",
       "      <td>0.011117</td>\n",
       "      <td>0.020307</td>\n",
       "    </tr>\n",
       "    <tr>\n",
       "      <th rowspan=\"2\" valign=\"top\">SMAP</th>\n",
       "      <th>with_PA</th>\n",
       "      <td>0.996465</td>\n",
       "      <td>0.996465</td>\n",
       "      <td>0.965307</td>\n",
       "    </tr>\n",
       "    <tr>\n",
       "      <th>without</th>\n",
       "      <td>0.010708</td>\n",
       "      <td>0.010708</td>\n",
       "      <td>0.019863</td>\n",
       "    </tr>\n",
       "    <tr>\n",
       "      <th rowspan=\"2\" valign=\"top\">SMD</th>\n",
       "      <th>with_PA</th>\n",
       "      <td>0.950154</td>\n",
       "      <td>0.950154</td>\n",
       "      <td>0.923827</td>\n",
       "    </tr>\n",
       "    <tr>\n",
       "      <th>without</th>\n",
       "      <td>0.013483</td>\n",
       "      <td>0.013483</td>\n",
       "      <td>0.024071</td>\n",
       "    </tr>\n",
       "  </tbody>\n",
       "</table>\n",
       "</div>"
      ],
      "text/plain": [
       "                  Precision    Recall  F1-Score\n",
       "Dataset PA                                     \n",
       "MSL     with_PA    0.967207  0.967207  0.943182\n",
       "        without    0.011117  0.011117  0.020307\n",
       "SMAP    with_PA    0.996465  0.996465  0.965307\n",
       "        without    0.010708  0.010708  0.019863\n",
       "SMD     with_PA    0.950154  0.950154  0.923827\n",
       "        without    0.013483  0.013483  0.024071"
      ]
     },
     "execution_count": 5,
     "metadata": {},
     "output_type": "execute_result"
    }
   ],
   "source": [
    "df.drop(columns = 'SEED').groupby(['Dataset','PA']).mean()"
   ]
  },
  {
   "attachments": {},
   "cell_type": "markdown",
   "metadata": {},
   "source": [
    "## MSL Case Analysis"
   ]
  },
  {
   "cell_type": "code",
   "execution_count": 6,
   "metadata": {},
   "outputs": [],
   "source": [
    "from tqdm import tqdm \n",
    "import matplotlib.pyplot as plt\n",
    "from sklearn.metrics import precision_recall_fscore_support\n",
    "\n",
    "plt.style.use('ggplot')"
   ]
  },
  {
   "cell_type": "code",
   "execution_count": 7,
   "metadata": {},
   "outputs": [],
   "source": [
    "def graph_longest_segment(dirs):\n",
    "\n",
    "    thresh_dir, anomaly_score_dir, gt_dir, pred_dir = dirs\n",
    "    \n",
    "    dir = thresh_dir[3]\n",
    "    dataset_name = dir.split('/')[-3]\n",
    "\n",
    "    # Open the JSON file\n",
    "    with open(dir, 'r') as f:\n",
    "        data = json.load(f)\n",
    "        \n",
    "    threshold = data['threshold']\n",
    "\n",
    "    anomaly_score = np.load(anomaly_score_dir[3])\n",
    "    gt = np.load(gt_dir[3])\n",
    "    pred = np.load(pred_dir[3])\n",
    "\n",
    "    precision, recall, f_1, _ = precision_recall_fscore_support(gt, pred, average='binary')\n",
    "\n",
    "    print(f'Precision: {precision: .4f}, Recall: {recall: .4f}, F1-Score: {f_1: .4f}', end = '\\n\\n')\n",
    "\n",
    "    print(f'prediction shape: {pred.shape}, ground truth shape: {gt.shape}, anomaly score shape: {anomaly_score.shape}', end = '\\n\\n')\n",
    "\n",
    "    anomaly_index = []\n",
    "    anomaly_state = False\n",
    "    temp = []\n",
    "    for i in range(len(gt)):\n",
    "        if gt[i] == 1:\n",
    "            anomaly_state = True\n",
    "            temp.append(i)\n",
    "\n",
    "        elif gt[i] == 0 and anomaly_state:\n",
    "            anomaly_state = False\n",
    "            anomaly_index.append(temp)\n",
    "            temp = []\n",
    "\n",
    "    anomaly_length = [len(x) for x in anomaly_index]\n",
    "\n",
    "    print(f'Maximum Anomaly Segment Length for {dataset_name} dataset is {max(anomaly_length)} ', end = '\\n\\n')\n",
    "\n",
    "    correct = (pred[anomaly_index[anomaly_length.index(max(anomaly_length))]]==1).sum()\n",
    "\n",
    "    print(f'Corrected detected {correct} points out of {max(anomaly_length)}', end = '\\n\\n')\n",
    "\n",
    "    segment = anomaly_score[anomaly_index[anomaly_length.index(max(anomaly_length))]]\n",
    "\n",
    "    plt.figure(figsize = (15,5))\n",
    "    plt.plot(segment, label = 'Anomaly Score')\n",
    "\n",
    "    plt.axhline(threshold, lw = 0.5, color = 'Blue', label = f'Threshold: {threshold:.4f}')\n",
    "    plt.ylim(bottom = 0, top = 1.0)\n",
    "    plt.title('{} Longest Anomalous Segment Example (Extreme Value Truncated)'.format(dataset_name), size = 10)\n",
    "\n",
    "    plt.legend()\n",
    "    plt.show()"
   ]
  },
  {
   "cell_type": "code",
   "execution_count": 8,
   "metadata": {},
   "outputs": [
    {
     "data": {
      "text/plain": [
       "['/directory/Anomaly_Transformer/saved_models/MSL',\n",
       " '/directory/Anomaly_Transformer/saved_models/SMAP',\n",
       " '/directory/Anomaly_Transformer/saved_models/SMD']"
      ]
     },
     "execution_count": 8,
     "metadata": {},
     "output_type": "execute_result"
    }
   ],
   "source": [
    "model_path"
   ]
  },
  {
   "cell_type": "code",
   "execution_count": 9,
   "metadata": {},
   "outputs": [
    {
     "name": "stdout",
     "output_type": "stream",
     "text": [
      "Precision:  0.1153, Recall:  0.0109, F1-Score:  0.0200\n",
      "\n",
      "prediction shape: (73700,), ground truth shape: (73700,), anomaly score shape: (73700,)\n",
      "\n",
      "Maximum Anomaly Segment Length for MSL dataset is 1141 \n",
      "\n",
      "Corrected detected 12 points out of 1141\n",
      "\n"
     ]
    },
    {
     "data": {
      "image/png": "[encoded data removed]",
      "text/plain": [
       "<Figure size 1500x500 with 1 Axes>"
      ]
     },
     "metadata": {},
     "output_type": "display_data"
    },
    {
     "name": "stdout",
     "output_type": "stream",
     "text": [
      "Precision:  0.1436, Recall:  0.0112, F1-Score:  0.0208\n",
      "\n",
      "prediction shape: (427600,), ground truth shape: (427600,), anomaly score shape: (427600,)\n",
      "\n",
      "Maximum Anomaly Segment Length for SMAP dataset is 4218 \n",
      "\n",
      "Corrected detected 45 points out of 4218\n",
      "\n"
     ]
    },
    {
     "data": {
      "image/png": "[encoded data removed]",
      "text/plain": [
       "<Figure size 1500x500 with 1 Axes>"
      ]
     },
     "metadata": {},
     "output_type": "display_data"
    },
    {
     "name": "stdout",
     "output_type": "stream",
     "text": [
      "Precision:  0.1084, Recall:  0.0130, F1-Score:  0.0233\n",
      "\n",
      "prediction shape: (708400,), ground truth shape: (708400,), anomaly score shape: (708400,)\n",
      "\n",
      "Maximum Anomaly Segment Length for SMD dataset is 3161 \n",
      "\n",
      "Corrected detected 33 points out of 3161\n",
      "\n"
     ]
    },
    {
     "data": {
      "image/png": "[encoded data removed]",
      "text/plain": [
       "<Figure size 1500x500 with 1 Axes>"
      ]
     },
     "metadata": {},
     "output_type": "display_data"
    }
   ],
   "source": [
    "for i in range(len(model_path)):\n",
    "    \n",
    "    thresh_dir = sorted(glob(os.path.join(model_path[i],'*','best_test_result.json')))\n",
    "    anomaly_score_dir = sorted(glob(os.path.join(model_path[i],'*','anomaly_score.npy')))\n",
    "    gt_dir = sorted(glob(os.path.join(model_path[i],'*','gt.npy')))\n",
    "    pred_dir = sorted(glob(os.path.join(model_path[i],'*','pred.npy')))\n",
    "\n",
    "    graph_longest_segment((thresh_dir, anomaly_score_dir, gt_dir, pred_dir))"
   ]
  },
  {
   "cell_type": "code",
   "execution_count": 15,
   "metadata": {},
   "outputs": [],
   "source": [
    "length = len(np.load(pred_dir[3]))"
   ]
  },
  {
   "cell_type": "code",
   "execution_count": 71,
   "metadata": {},
   "outputs": [
    {
     "data": {
      "text/plain": [
       "'/directory/Anomaly_Transformer/saved_models/SMD/without_PA_1105/gt.npy'"
      ]
     },
     "execution_count": 71,
     "metadata": {},
     "output_type": "execute_result"
    }
   ],
   "source": [
    "gt = np.load(gt_dir[3])\n",
    "\n",
    "gt_dir[3]"
   ]
  },
  {
   "cell_type": "code",
   "execution_count": 70,
   "metadata": {},
   "outputs": [
    {
     "data": {
      "text/plain": [
       "0.01598773543583005"
      ]
     },
     "execution_count": 70,
     "metadata": {},
     "output_type": "execute_result"
    }
   ],
   "source": [
    "import random\n",
    "\n",
    "random.seed(1998)\n",
    "\n",
    "random_sample = np.random.randn(length,)\n",
    "\n",
    "thresh = np.percentile(random_sample, 100 - 1.0)\n",
    "\n",
    "pred_random = (random_sample>thresh).astype(int)\n",
    "_, _, f1, _= precision_recall_fscore_support(gt, pred_random, average='binary')\n",
    "\n",
    "f1"
   ]
  },
  {
   "cell_type": "code",
   "execution_count": 66,
   "metadata": {},
   "outputs": [
    {
     "name": "stdout",
     "output_type": "stream",
     "text": [
      "Anomaly_ratio : 0.5 & f1: 0.7667\n",
      "Anomaly_ratio : 0.6 & f1: 0.8196\n",
      "Anomaly_ratio : 0.7 & f1: 0.8269\n",
      "Anomaly_ratio : 0.7999999999999999 & f1: 0.7868\n",
      "Anomaly_ratio : 0.8999999999999999 & f1: 0.8269\n",
      "Anomaly_ratio : 0.9999999999999999 & f1: 0.8252\n",
      "Anomaly_ratio : 1.0999999999999999 & f1: 0.8235\n",
      "Anomaly_ratio : 1.1999999999999997 & f1: 0.8009\n",
      "Anomaly_ratio : 1.2999999999999998 & f1: 0.8012\n",
      "Anomaly_ratio : 1.4 & f1: 0.8051\n",
      "Anomaly_ratio : 1.4999999999999998 & f1: 0.8048\n",
      "Anomaly_ratio : 1.5999999999999996 & f1: 0.7880\n",
      "Anomaly_ratio : 1.6999999999999997 & f1: 0.7914\n",
      "Anomaly_ratio : 1.7999999999999998 & f1: 0.7766\n",
      "Anomaly_ratio : 1.8999999999999997 & f1: 0.7685\n",
      "Anomaly_ratio : 1.9999999999999996 & f1: 0.7752\n"
     ]
    }
   ],
   "source": [
    "for ratio in np.arange(0.5, 2.1, 0.1):\n",
    "\n",
    "    random_sample = np.random.randn(length,)\n",
    "\n",
    "    thresh = np.percentile(random_sample, 100 - ratio)\n",
    "\n",
    "    pred_random = (random_sample>thresh).astype(int)\n",
    "\n",
    "    anomaly_state = False\n",
    "    for i in range(len(gt)):\n",
    "        if gt[i] == 1 and pred_random[i] == 1 and not anomaly_state:\n",
    "            anomaly_state = True\n",
    "            for j in range(i, 0, -1):\n",
    "                if gt[j] == 0:\n",
    "                    break\n",
    "                else:\n",
    "                    if pred_random[j] == 0:\n",
    "                        pred_random[j] = 1\n",
    "            for j in range(i, len(gt)):\n",
    "                if gt[j] == 0:\n",
    "                    break\n",
    "                else:\n",
    "                    if pred_random[j] == 0:\n",
    "                        pred_random[j] = 1\n",
    "        elif gt[i] == 0:\n",
    "            anomaly_state = False\n",
    "        if anomaly_state:\n",
    "            pred_random[i] = 1\n",
    "    _, _, f1, _= precision_recall_fscore_support(gt, pred_random, average='binary')\n",
    "\n",
    "    print(f\"Anomaly_ratio : {ratio} & f1: {f1:.4f}\")"
   ]
  },
  {
   "cell_type": "code",
   "execution_count": 58,
   "metadata": {},
   "outputs": [
    {
     "data": {
      "text/plain": [
       "0.8294483881253251"
      ]
     },
     "execution_count": 58,
     "metadata": {},
     "output_type": "execute_result"
    }
   ],
   "source": [
    "f1"
   ]
  }
 ],
 "metadata": {
  "kernelspec": {
   "display_name": "Python 3",
   "language": "python",
   "name": "python3"
  },
  "language_info": {
   "codemirror_mode": {
    "name": "ipython",
    "version": 3
   },
   "file_extension": ".py",
   "mimetype": "text/x-python",
   "name": "python",
   "nbconvert_exporter": "python",
   "pygments_lexer": "ipython3",
   "version": "3.8.10"
  },
  "orig_nbformat": 4
 },
 "nbformat": 4,
 "nbformat_minor": 2
}
